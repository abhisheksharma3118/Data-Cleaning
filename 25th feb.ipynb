{
 "cells": [
  {
   "cell_type": "code",
   "execution_count": 1,
   "id": "ef47262d",
   "metadata": {},
   "outputs": [],
   "source": [
    "actual = [2, 3, 5, 5, 9]\n",
    "calculated = [3, 3, 8, 7, 6]"
   ]
  },
  {
   "cell_type": "code",
   "execution_count": null,
   "id": "5291b02e",
   "metadata": {},
   "outputs": [],
   "source": []
  },
  {
   "cell_type": "code",
   "execution_count": 2,
   "id": "af778790",
   "metadata": {},
   "outputs": [],
   "source": [
    "a = 0"
   ]
  },
  {
   "cell_type": "code",
   "execution_count": 7,
   "id": "45a92ca8",
   "metadata": {},
   "outputs": [],
   "source": [
    "for i in actual:\n",
    "    a = a + i"
   ]
  },
  {
   "cell_type": "code",
   "execution_count": 8,
   "id": "54d8dd23",
   "metadata": {},
   "outputs": [
    {
     "data": {
      "text/plain": [
       "24"
      ]
     },
     "execution_count": 8,
     "metadata": {},
     "output_type": "execute_result"
    }
   ],
   "source": [
    "a"
   ]
  },
  {
   "cell_type": "code",
   "execution_count": 12,
   "id": "6756abc1",
   "metadata": {},
   "outputs": [
    {
     "data": {
      "text/plain": [
       "5"
      ]
     },
     "execution_count": 12,
     "metadata": {},
     "output_type": "execute_result"
    }
   ],
   "source": [
    "len(actual)"
   ]
  },
  {
   "cell_type": "code",
   "execution_count": 11,
   "id": "7abb5955",
   "metadata": {},
   "outputs": [
    {
     "name": "stdout",
     "output_type": "stream",
     "text": [
      "5\n",
      "6\n",
      "13\n",
      "12\n",
      "15\n"
     ]
    }
   ],
   "source": [
    "for i in range(len(actual)):\n",
    "    print(actual[i] + calculated[i])"
   ]
  },
  {
   "cell_type": "code",
   "execution_count": null,
   "id": "91a940f9",
   "metadata": {},
   "outputs": [],
   "source": []
  },
  {
   "cell_type": "code",
   "execution_count": 13,
   "id": "6ee7938f",
   "metadata": {},
   "outputs": [
    {
     "data": {
      "text/plain": [
       "3"
      ]
     },
     "execution_count": 13,
     "metadata": {},
     "output_type": "execute_result"
    }
   ],
   "source": [
    "1 + 2"
   ]
  },
  {
   "cell_type": "code",
   "execution_count": 14,
   "id": "a82d8690",
   "metadata": {},
   "outputs": [
    {
     "data": {
      "text/plain": [
       "-1"
      ]
     },
     "execution_count": 14,
     "metadata": {},
     "output_type": "execute_result"
    }
   ],
   "source": [
    "1 - 2"
   ]
  },
  {
   "cell_type": "code",
   "execution_count": 17,
   "id": "6b7e859b",
   "metadata": {},
   "outputs": [
    {
     "data": {
      "text/plain": [
       "8"
      ]
     },
     "execution_count": 17,
     "metadata": {},
     "output_type": "execute_result"
    }
   ],
   "source": [
    "2 ** 3"
   ]
  },
  {
   "cell_type": "code",
   "execution_count": 19,
   "id": "968ea213",
   "metadata": {},
   "outputs": [
    {
     "data": {
      "text/plain": [
       "2"
      ]
     },
     "execution_count": 19,
     "metadata": {},
     "output_type": "execute_result"
    }
   ],
   "source": [
    "11 % 3"
   ]
  },
  {
   "cell_type": "code",
   "execution_count": 20,
   "id": "5b289fbc",
   "metadata": {},
   "outputs": [
    {
     "name": "stdout",
     "output_type": "stream",
     "text": [
      "even\n"
     ]
    }
   ],
   "source": [
    "if 5 % 2 == 0:\n",
    "    print(\"even\")"
   ]
  },
  {
   "cell_type": "code",
   "execution_count": 21,
   "id": "202994d7",
   "metadata": {},
   "outputs": [
    {
     "data": {
      "text/plain": [
       "99.99"
      ]
     },
     "execution_count": 21,
     "metadata": {},
     "output_type": "execute_result"
    }
   ],
   "source": [
    "-(-99.99)"
   ]
  },
  {
   "cell_type": "code",
   "execution_count": 22,
   "id": "c06c4367",
   "metadata": {},
   "outputs": [
    {
     "data": {
      "text/plain": [
       "99.99"
      ]
     },
     "execution_count": 22,
     "metadata": {},
     "output_type": "execute_result"
    }
   ],
   "source": [
    "abs(-99.99)"
   ]
  },
  {
   "cell_type": "code",
   "execution_count": 23,
   "id": "b4df3aa3",
   "metadata": {},
   "outputs": [
    {
     "data": {
      "text/plain": [
       "8"
      ]
     },
     "execution_count": 23,
     "metadata": {},
     "output_type": "execute_result"
    }
   ],
   "source": [
    "pow(2,3)"
   ]
  },
  {
   "cell_type": "code",
   "execution_count": 25,
   "id": "b8029427",
   "metadata": {},
   "outputs": [],
   "source": [
    "import math"
   ]
  },
  {
   "cell_type": "code",
   "execution_count": 26,
   "id": "e83af8c8",
   "metadata": {},
   "outputs": [
    {
     "data": {
      "text/plain": [
       "-0.3048106211022167"
      ]
     },
     "execution_count": 26,
     "metadata": {},
     "output_type": "execute_result"
    }
   ],
   "source": [
    "math.sin(60)"
   ]
  },
  {
   "cell_type": "code",
   "execution_count": 27,
   "id": "e847bd3c",
   "metadata": {},
   "outputs": [
    {
     "data": {
      "text/plain": [
       "-0.9524129804151563"
      ]
     },
     "execution_count": 27,
     "metadata": {},
     "output_type": "execute_result"
    }
   ],
   "source": [
    "math.cos(60)"
   ]
  },
  {
   "cell_type": "code",
   "execution_count": 28,
   "id": "fa7104a1",
   "metadata": {},
   "outputs": [],
   "source": [
    "#list comprehension"
   ]
  },
  {
   "cell_type": "code",
   "execution_count": 30,
   "id": "414ad52c",
   "metadata": {},
   "outputs": [],
   "source": [
    "a = [1,2,3,4,5]"
   ]
  },
  {
   "cell_type": "code",
   "execution_count": 31,
   "id": "cda5a8eb",
   "metadata": {},
   "outputs": [],
   "source": [
    "b = []"
   ]
  },
  {
   "cell_type": "code",
   "execution_count": 32,
   "id": "a9939939",
   "metadata": {},
   "outputs": [
    {
     "data": {
      "text/plain": [
       "[]"
      ]
     },
     "execution_count": 32,
     "metadata": {},
     "output_type": "execute_result"
    }
   ],
   "source": [
    "b"
   ]
  },
  {
   "cell_type": "code",
   "execution_count": 34,
   "id": "3cbb3e4f",
   "metadata": {},
   "outputs": [],
   "source": [
    "for i in range(1,6):\n",
    "    b.append(i)"
   ]
  },
  {
   "cell_type": "code",
   "execution_count": 35,
   "id": "fe41e357",
   "metadata": {},
   "outputs": [
    {
     "data": {
      "text/plain": [
       "[1, 2, 3, 4, 5]"
      ]
     },
     "execution_count": 35,
     "metadata": {},
     "output_type": "execute_result"
    }
   ],
   "source": [
    "b"
   ]
  },
  {
   "cell_type": "code",
   "execution_count": 36,
   "id": "592bb40c",
   "metadata": {},
   "outputs": [],
   "source": [
    "evn = []\n",
    "odd= []"
   ]
  },
  {
   "cell_type": "code",
   "execution_count": 41,
   "id": "1568c3fd",
   "metadata": {},
   "outputs": [
    {
     "name": "stdout",
     "output_type": "stream",
     "text": [
      "1\n",
      "2\n",
      "3\n",
      "4\n",
      "5\n"
     ]
    }
   ],
   "source": [
    "for i in b:\n",
    "    if i % 2 == 0:\n",
    "        print(i)\n",
    "        evn.append(i)\n",
    "    else:\n",
    "        print(i)\n",
    "        odd.append(i)"
   ]
  },
  {
   "cell_type": "code",
   "execution_count": 42,
   "id": "1f914350",
   "metadata": {},
   "outputs": [
    {
     "data": {
      "text/plain": [
       "[2, 4]"
      ]
     },
     "execution_count": 42,
     "metadata": {},
     "output_type": "execute_result"
    }
   ],
   "source": [
    "evn"
   ]
  },
  {
   "cell_type": "code",
   "execution_count": 43,
   "id": "8ef253cc",
   "metadata": {},
   "outputs": [
    {
     "data": {
      "text/plain": [
       "[1, 3, 5]"
      ]
     },
     "execution_count": 43,
     "metadata": {},
     "output_type": "execute_result"
    }
   ],
   "source": [
    "odd"
   ]
  },
  {
   "cell_type": "code",
   "execution_count": 44,
   "id": "4e09cc55",
   "metadata": {},
   "outputs": [],
   "source": [
    "#functions"
   ]
  },
  {
   "cell_type": "code",
   "execution_count": 51,
   "id": "9b04da11",
   "metadata": {},
   "outputs": [
    {
     "name": "stdout",
     "output_type": "stream",
     "text": [
      "3\n"
     ]
    }
   ],
   "source": [
    "a = 1\n",
    "b = 2\n",
    "c = a + b\n",
    "print(c)"
   ]
  },
  {
   "cell_type": "code",
   "execution_count": 60,
   "id": "4a57f72e",
   "metadata": {},
   "outputs": [],
   "source": [
    "def sum_1():\n",
    "    a = 1\n",
    "    b = 2\n",
    "    c = a + b\n",
    "    print(c)"
   ]
  },
  {
   "cell_type": "code",
   "execution_count": 67,
   "id": "8844bba9",
   "metadata": {},
   "outputs": [
    {
     "name": "stdout",
     "output_type": "stream",
     "text": [
      "3\n"
     ]
    },
    {
     "ename": "TypeError",
     "evalue": "unsupported operand type(s) for +: 'NoneType' and 'int'",
     "output_type": "error",
     "traceback": [
      "\u001b[1;31m---------------------------------------------------------------------------\u001b[0m",
      "\u001b[1;31mTypeError\u001b[0m                                 Traceback (most recent call last)",
      "\u001b[1;32m~\\AppData\\Local\\Temp/ipykernel_4756/4201948555.py\u001b[0m in \u001b[0;36m<module>\u001b[1;34m\u001b[0m\n\u001b[1;32m----> 1\u001b[1;33m \u001b[0msum_1\u001b[0m\u001b[1;33m(\u001b[0m\u001b[1;33m)\u001b[0m \u001b[1;33m+\u001b[0m \u001b[1;36m3\u001b[0m\u001b[1;33m\u001b[0m\u001b[1;33m\u001b[0m\u001b[0m\n\u001b[0m",
      "\u001b[1;31mTypeError\u001b[0m: unsupported operand type(s) for +: 'NoneType' and 'int'"
     ]
    }
   ],
   "source": [
    "sum_1() + 3"
   ]
  },
  {
   "cell_type": "code",
   "execution_count": 68,
   "id": "1737d3ea",
   "metadata": {},
   "outputs": [],
   "source": [
    "def sum_2():\n",
    "    a = 1\n",
    "    b = 2\n",
    "    c = a + b\n",
    "    return c"
   ]
  },
  {
   "cell_type": "code",
   "execution_count": 70,
   "id": "89702690",
   "metadata": {},
   "outputs": [
    {
     "data": {
      "text/plain": [
       "3"
      ]
     },
     "execution_count": 70,
     "metadata": {},
     "output_type": "execute_result"
    }
   ],
   "source": [
    "sum_2()"
   ]
  },
  {
   "cell_type": "code",
   "execution_count": 86,
   "id": "0c514d12",
   "metadata": {},
   "outputs": [],
   "source": [
    "def sum_3():\n",
    "    a = int(input(\"values of a: \"))\n",
    "    b = int(input(\"values of b: \"))\n",
    "    c = a + b\n",
    "    return c"
   ]
  },
  {
   "cell_type": "code",
   "execution_count": 88,
   "id": "1d18e695",
   "metadata": {},
   "outputs": [
    {
     "name": "stdout",
     "output_type": "stream",
     "text": [
      "values of a100\n",
      "values of b200\n"
     ]
    },
    {
     "data": {
      "text/plain": [
       "300"
      ]
     },
     "execution_count": 88,
     "metadata": {},
     "output_type": "execute_result"
    }
   ],
   "source": [
    "sum_3()"
   ]
  },
  {
   "cell_type": "code",
   "execution_count": 74,
   "id": "34d2fb55",
   "metadata": {},
   "outputs": [
    {
     "data": {
      "text/plain": [
       "16"
      ]
     },
     "execution_count": 74,
     "metadata": {},
     "output_type": "execute_result"
    }
   ],
   "source": [
    "sum_3(8,8)"
   ]
  },
  {
   "cell_type": "code",
   "execution_count": 98,
   "id": "734d010e",
   "metadata": {},
   "outputs": [],
   "source": [
    "def tip(bill, tip_perc = 0.10):\n",
    "    total = bill+(tip_perc * bill)\n",
    "    return total"
   ]
  },
  {
   "cell_type": "code",
   "execution_count": 99,
   "id": "604bb4ae",
   "metadata": {},
   "outputs": [
    {
     "data": {
      "text/plain": [
       "1200.0"
      ]
     },
     "execution_count": 99,
     "metadata": {},
     "output_type": "execute_result"
    }
   ],
   "source": [
    "tip(1000, 0.20)"
   ]
  },
  {
   "cell_type": "code",
   "execution_count": null,
   "id": "0b50c917",
   "metadata": {},
   "outputs": [],
   "source": []
  }
 ],
 "metadata": {
  "kernelspec": {
   "display_name": "Python 3 (ipykernel)",
   "language": "python",
   "name": "python3"
  },
  "language_info": {
   "codemirror_mode": {
    "name": "ipython",
    "version": 3
   },
   "file_extension": ".py",
   "mimetype": "text/x-python",
   "name": "python",
   "nbconvert_exporter": "python",
   "pygments_lexer": "ipython3",
   "version": "3.7.8"
  }
 },
 "nbformat": 4,
 "nbformat_minor": 5
}
