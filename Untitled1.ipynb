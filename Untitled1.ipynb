{
 "cells": [
  {
   "cell_type": "code",
   "execution_count": null,
   "id": "554a874e",
   "metadata": {},
   "outputs": [],
   "source": [
    "#list"
   ]
  },
  {
   "cell_type": "code",
   "execution_count": null,
   "id": "f6556b7e",
   "metadata": {},
   "outputs": [],
   "source": [
    "b = 'dravid'"
   ]
  },
  {
   "cell_type": "code",
   "execution_count": null,
   "id": "929c024d",
   "metadata": {},
   "outputs": [],
   "source": [
    "a = [1,b,'sachin', 50.5, True,1] # ordered, mutable, dynamic, it will allow duplicate items"
   ]
  },
  {
   "cell_type": "code",
   "execution_count": null,
   "id": "54a23f10",
   "metadata": {},
   "outputs": [],
   "source": [
    "a"
   ]
  },
  {
   "cell_type": "code",
   "execution_count": null,
   "id": "4afdef96",
   "metadata": {},
   "outputs": [],
   "source": [
    "a"
   ]
  },
  {
   "cell_type": "code",
   "execution_count": null,
   "id": "e06924fe",
   "metadata": {},
   "outputs": [],
   "source": [
    "b = ['sachin', 'dravid', ['virat', 'pant']]"
   ]
  },
  {
   "cell_type": "code",
   "execution_count": null,
   "id": "cc2f855e",
   "metadata": {},
   "outputs": [],
   "source": [
    "b"
   ]
  },
  {
   "cell_type": "code",
   "execution_count": null,
   "id": "83d4ec3b",
   "metadata": {},
   "outputs": [],
   "source": [
    "f = b[2]"
   ]
  },
  {
   "cell_type": "code",
   "execution_count": null,
   "id": "4591c2e2",
   "metadata": {},
   "outputs": [],
   "source": [
    "f[1]"
   ]
  },
  {
   "cell_type": "code",
   "execution_count": null,
   "id": "0d398899",
   "metadata": {},
   "outputs": [],
   "source": []
  },
  {
   "cell_type": "code",
   "execution_count": null,
   "id": "1aec53bd",
   "metadata": {},
   "outputs": [],
   "source": [
    "a = [1,2,3,4,5,6]"
   ]
  },
  {
   "cell_type": "code",
   "execution_count": null,
   "id": "7af9cb7e",
   "metadata": {},
   "outputs": [],
   "source": [
    "a"
   ]
  },
  {
   "cell_type": "code",
   "execution_count": null,
   "id": "08e0bd02",
   "metadata": {},
   "outputs": [],
   "source": [
    "a[1]"
   ]
  },
  {
   "cell_type": "code",
   "execution_count": null,
   "id": "22825e73",
   "metadata": {},
   "outputs": [],
   "source": [
    "a[-2]"
   ]
  },
  {
   "cell_type": "code",
   "execution_count": null,
   "id": "d0cb220c",
   "metadata": {},
   "outputs": [],
   "source": [
    "a[4:]"
   ]
  },
  {
   "cell_type": "code",
   "execution_count": null,
   "id": "f13b02c0",
   "metadata": {},
   "outputs": [],
   "source": []
  },
  {
   "cell_type": "code",
   "execution_count": null,
   "id": "dad17103",
   "metadata": {},
   "outputs": [],
   "source": [
    "a"
   ]
  },
  {
   "cell_type": "code",
   "execution_count": null,
   "id": "9f6ed3b9",
   "metadata": {},
   "outputs": [],
   "source": [
    "a[-1] = 'dravid'"
   ]
  },
  {
   "cell_type": "code",
   "execution_count": null,
   "id": "ae3f1f15",
   "metadata": {},
   "outputs": [],
   "source": [
    "a"
   ]
  },
  {
   "cell_type": "code",
   "execution_count": null,
   "id": "f3b47b57",
   "metadata": {},
   "outputs": [],
   "source": [
    "a[3] = 'virat'"
   ]
  },
  {
   "cell_type": "code",
   "execution_count": null,
   "id": "6d2d4be2",
   "metadata": {},
   "outputs": [],
   "source": [
    "a"
   ]
  },
  {
   "cell_type": "code",
   "execution_count": null,
   "id": "b5cbdbe6",
   "metadata": {},
   "outputs": [],
   "source": [
    "del a[-1]"
   ]
  },
  {
   "cell_type": "code",
   "execution_count": null,
   "id": "65283e39",
   "metadata": {},
   "outputs": [],
   "source": [
    "a"
   ]
  },
  {
   "cell_type": "code",
   "execution_count": null,
   "id": "08691dc7",
   "metadata": {},
   "outputs": [],
   "source": [
    "a"
   ]
  },
  {
   "cell_type": "code",
   "execution_count": null,
   "id": "cb55479a",
   "metadata": {},
   "outputs": [],
   "source": [
    "a.append('ganguly')"
   ]
  },
  {
   "cell_type": "code",
   "execution_count": null,
   "id": "6580f924",
   "metadata": {},
   "outputs": [],
   "source": [
    "a"
   ]
  },
  {
   "cell_type": "code",
   "execution_count": null,
   "id": "6eb34223",
   "metadata": {},
   "outputs": [],
   "source": []
  },
  {
   "cell_type": "code",
   "execution_count": null,
   "id": "876d5dd5",
   "metadata": {},
   "outputs": [],
   "source": [
    "#dictionary"
   ]
  },
  {
   "cell_type": "code",
   "execution_count": null,
   "id": "db5d159f",
   "metadata": {},
   "outputs": [],
   "source": [
    "d = {1:'sachin', 2:'dravid', 3:'virat', 10:{1:1,2:3}}"
   ]
  },
  {
   "cell_type": "code",
   "execution_count": null,
   "id": "cc0b45ea",
   "metadata": {},
   "outputs": [],
   "source": [
    "d"
   ]
  },
  {
   "cell_type": "code",
   "execution_count": null,
   "id": "b1eb18f3",
   "metadata": {},
   "outputs": [],
   "source": [
    "d['a']"
   ]
  },
  {
   "cell_type": "code",
   "execution_count": null,
   "id": "8b86051d",
   "metadata": {},
   "outputs": [],
   "source": [
    "d[2]"
   ]
  },
  {
   "cell_type": "code",
   "execution_count": null,
   "id": "dcc96692",
   "metadata": {},
   "outputs": [],
   "source": [
    "g = d[10]"
   ]
  },
  {
   "cell_type": "code",
   "execution_count": null,
   "id": "4b89dc6c",
   "metadata": {},
   "outputs": [],
   "source": [
    "g"
   ]
  },
  {
   "cell_type": "code",
   "execution_count": null,
   "id": "ec1c7be9",
   "metadata": {},
   "outputs": [],
   "source": []
  },
  {
   "cell_type": "code",
   "execution_count": null,
   "id": "ba611adf",
   "metadata": {},
   "outputs": [],
   "source": [
    "#tuple"
   ]
  },
  {
   "cell_type": "code",
   "execution_count": null,
   "id": "b137837f",
   "metadata": {},
   "outputs": [],
   "source": [
    "s = (1,2,3)"
   ]
  },
  {
   "cell_type": "code",
   "execution_count": null,
   "id": "08e722af",
   "metadata": {},
   "outputs": [],
   "source": [
    "s"
   ]
  },
  {
   "cell_type": "code",
   "execution_count": null,
   "id": "9afd18d3",
   "metadata": {},
   "outputs": [],
   "source": [
    "type(s)"
   ]
  },
  {
   "cell_type": "code",
   "execution_count": null,
   "id": "efbbc359",
   "metadata": {},
   "outputs": [],
   "source": [
    "s[1] = 'dravid'"
   ]
  },
  {
   "cell_type": "code",
   "execution_count": null,
   "id": "95ab2647",
   "metadata": {},
   "outputs": [],
   "source": [
    "s[:2]"
   ]
  },
  {
   "cell_type": "code",
   "execution_count": null,
   "id": "1eebf7e9",
   "metadata": {},
   "outputs": [],
   "source": [
    "#loops"
   ]
  },
  {
   "cell_type": "code",
   "execution_count": null,
   "id": "75e52a0a",
   "metadata": {},
   "outputs": [],
   "source": [
    "print('abhishek')"
   ]
  },
  {
   "cell_type": "code",
   "execution_count": null,
   "id": "e9b79522",
   "metadata": {},
   "outputs": [],
   "source": [
    "for i in range(10):\n",
    "    print(i)\n",
    "    print('abhishek')\n",
    "print('a')"
   ]
  },
  {
   "cell_type": "code",
   "execution_count": null,
   "id": "3cd94c33",
   "metadata": {},
   "outputs": [],
   "source": [
    "range(10)"
   ]
  },
  {
   "cell_type": "code",
   "execution_count": null,
   "id": "d6006edd",
   "metadata": {},
   "outputs": [],
   "source": [
    "a"
   ]
  },
  {
   "cell_type": "code",
   "execution_count": null,
   "id": "674335ec",
   "metadata": {},
   "outputs": [],
   "source": [
    "for i in a:\n",
    "    print(i)"
   ]
  },
  {
   "cell_type": "code",
   "execution_count": null,
   "id": "611c55d5",
   "metadata": {},
   "outputs": [],
   "source": [
    "#while loop"
   ]
  },
  {
   "cell_type": "code",
   "execution_count": 1,
   "id": "33387d62",
   "metadata": {},
   "outputs": [
    {
     "name": "stdout",
     "output_type": "stream",
     "text": [
      "2\n",
      "3\n",
      "4\n",
      "5\n",
      "6\n",
      "7\n",
      "8\n",
      "9\n"
     ]
    }
   ],
   "source": [
    "number  = 2\n",
    "while number < 10:\n",
    "    print(number)\n",
    "    number = number + 1"
   ]
  },
  {
   "cell_type": "code",
   "execution_count": null,
   "id": "374523e8",
   "metadata": {},
   "outputs": [],
   "source": []
  },
  {
   "cell_type": "code",
   "execution_count": 2,
   "id": "bc027bcd",
   "metadata": {},
   "outputs": [],
   "source": [
    "#conditions"
   ]
  },
  {
   "cell_type": "code",
   "execution_count": 11,
   "id": "f7ec34ed",
   "metadata": {},
   "outputs": [
    {
     "name": "stdout",
     "output_type": "stream",
     "text": [
      "just printing\n"
     ]
    }
   ],
   "source": [
    "if 11 < 10:\n",
    "    print(\"greater\")\n",
    "else:\n",
    "    print(\"just printing\")"
   ]
  },
  {
   "cell_type": "code",
   "execution_count": 6,
   "id": "9d2eee29",
   "metadata": {},
   "outputs": [
    {
     "data": {
      "text/plain": [
       "True"
      ]
     },
     "execution_count": 6,
     "metadata": {},
     "output_type": "execute_result"
    }
   ],
   "source": [
    "1 < 10"
   ]
  },
  {
   "cell_type": "code",
   "execution_count": 10,
   "id": "4adeb2c1",
   "metadata": {},
   "outputs": [
    {
     "data": {
      "text/plain": [
       "False"
      ]
     },
     "execution_count": 10,
     "metadata": {},
     "output_type": "execute_result"
    }
   ],
   "source": [
    "11 < 10"
   ]
  },
  {
   "cell_type": "code",
   "execution_count": 24,
   "id": "9bd80624",
   "metadata": {},
   "outputs": [],
   "source": [
    "maths = 60"
   ]
  },
  {
   "cell_type": "code",
   "execution_count": 25,
   "id": "8da58db1",
   "metadata": {},
   "outputs": [
    {
     "name": "stdout",
     "output_type": "stream",
     "text": [
      "rank\n"
     ]
    }
   ],
   "source": [
    "if maths < 40:\n",
    "    print(\"fail\")\n",
    "elif maths <= 80:\n",
    "    print(\"rank\")\n",
    "elif maths >= 60:\n",
    "    print('first class')\n",
    "else:\n",
    "    print(\"pass\")"
   ]
  },
  {
   "cell_type": "code",
   "execution_count": null,
   "id": "6549d927",
   "metadata": {},
   "outputs": [],
   "source": []
  },
  {
   "cell_type": "code",
   "execution_count": 28,
   "id": "e62b0752",
   "metadata": {},
   "outputs": [],
   "source": [
    "number = 5"
   ]
  },
  {
   "cell_type": "code",
   "execution_count": 29,
   "id": "7f714e30",
   "metadata": {},
   "outputs": [
    {
     "name": "stdout",
     "output_type": "stream",
     "text": [
      "odd\n"
     ]
    }
   ],
   "source": [
    "if number % 2 == 0:\n",
    "    print(\"even\")\n",
    "else:\n",
    "    print('odd')"
   ]
  },
  {
   "cell_type": "code",
   "execution_count": 34,
   "id": "f6e80642",
   "metadata": {},
   "outputs": [],
   "source": [
    "lst = [1,2,3,4,5]"
   ]
  },
  {
   "cell_type": "code",
   "execution_count": 43,
   "id": "4ced2d24",
   "metadata": {},
   "outputs": [
    {
     "name": "stdout",
     "output_type": "stream",
     "text": [
      "2\n",
      "4\n"
     ]
    }
   ],
   "source": [
    "odd = []\n",
    "even = []\n",
    "for i in lst:\n",
    "    if i % 2 == 0:\n",
    "        print(i)\n",
    "        even.append(i)\n",
    "    else:\n",
    "        odd.append(i)"
   ]
  },
  {
   "cell_type": "code",
   "execution_count": 44,
   "id": "1b0a5a65",
   "metadata": {},
   "outputs": [
    {
     "data": {
      "text/plain": [
       "[1, 3, 5]"
      ]
     },
     "execution_count": 44,
     "metadata": {},
     "output_type": "execute_result"
    }
   ],
   "source": [
    "odd"
   ]
  },
  {
   "cell_type": "code",
   "execution_count": 45,
   "id": "8e9d3d51",
   "metadata": {},
   "outputs": [
    {
     "data": {
      "text/plain": [
       "[2, 4]"
      ]
     },
     "execution_count": 45,
     "metadata": {},
     "output_type": "execute_result"
    }
   ],
   "source": [
    "even"
   ]
  },
  {
   "cell_type": "code",
   "execution_count": null,
   "id": "e9184e90",
   "metadata": {},
   "outputs": [],
   "source": []
  }
 ],
 "metadata": {
  "kernelspec": {
   "display_name": "Python 3 (ipykernel)",
   "language": "python",
   "name": "python3"
  },
  "language_info": {
   "codemirror_mode": {
    "name": "ipython",
    "version": 3
   },
   "file_extension": ".py",
   "mimetype": "text/x-python",
   "name": "python",
   "nbconvert_exporter": "python",
   "pygments_lexer": "ipython3",
   "version": "3.7.8"
  }
 },
 "nbformat": 4,
 "nbformat_minor": 5
}
